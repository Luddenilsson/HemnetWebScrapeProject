{
 "cells": [
  {
   "cell_type": "code",
   "execution_count": 195,
   "id": "185e8d57",
   "metadata": {},
   "outputs": [],
   "source": [
    "import pandas as pd\n",
    "import numpy as np\n",
    "import selenium\n",
    "from selenium import webdriver\n",
    "from selenium.webdriver.common.by import By\n",
    "from selenium.webdriver.support.ui import WebDriverWait\n",
    "import requests\n",
    "from bs4 import BeautifulSoup\n",
    "from webdriver_manager.chrome import ChromeDriverManager\n",
    "\n",
    "from selenium.webdriver import Chrome\n",
    "from selenium.webdriver.chrome.service import Service\n",
    "#from selenium.webdriver.chrome.options import ChromeOptions\n",
    "from selenium.webdriver.chrome.options import Options\n",
    "from selenium.webdriver.support import expected_conditions as EC\n",
    "from selenium.webdriver.common.action_chains import ActionChains\n",
    "from webdriver_manager.chrome import ChromeDriverManager\n",
    "import time\n",
    "import re\n",
    "\n",
    "import matplotlib.pyplot as plt\n",
    "import seaborn as sns"
   ]
  },
  {
   "cell_type": "code",
   "execution_count": 196,
   "id": "e80e2c45",
   "metadata": {},
   "outputs": [],
   "source": [
    "### Url has already applied filter:\n",
    "\n",
    "# Täby kommun, Solna kommun, Bromma kommun, Nacka kommun\n",
    "# Villor, Par/kedjehus, lägenheter\n",
    "# Minst 2,5 rum\n",
    "# Minst 40 m2 yta\n",
    "# Högst 3,5 miljoner kr\n",
    "# Dölj nyproduktion\n",
    "# Alla dagar på Hemnet\n",
    "\n",
    "\n",
    "url = \"https://www.hemnet.se/bostader?new_construction=exclude&price_max=3500000&living_area_min=40&rooms_min=2.5&item_types%5B%5D=villa&item_types%5B%5D=radhus&item_types%5B%5D=bostadsratt&location_ids%5B%5D=17793&location_ids%5B%5D=17853&location_ids%5B%5D=898740&location_ids%5B%5D=18028\"\n",
    "html = requests.get(url).content\n",
    "\n",
    "###\n",
    "\n"
   ]
  },
  {
   "cell_type": "code",
   "execution_count": 197,
   "id": "c6fd0540",
   "metadata": {},
   "outputs": [],
   "source": [
    "key = \"#huvudinnehall > section > div.hcl-flex--container.hcl-flex--justify-flex-start.hcl-flex--md-justify-space-between.SearchResultsHeader_tabsWrapper__mEAh9 > div:nth-child(1) > div > div:nth-child(1) > a > span.SearchTypeTabs_searchTypeTabDesktop__cOxjn\"\n",
    "\n",
    "\n",
    "containers = soup.select(key)\n",
    "\n",
    "a = str([i.text.title() for i in containers])\n",
    "\n",
    "pattern = r\"\\d+\"\n",
    "match = re.search(pattern, a)\n",
    "\n",
    "total_objects = match[0]\n",
    "\n",
    "total_pages = int(round(int(total_objects) / 50, 0))"
   ]
  },
  {
   "cell_type": "code",
   "execution_count": 212,
   "id": "077c541f",
   "metadata": {},
   "outputs": [
    {
     "name": "stdout",
     "output_type": "stream",
     "text": [
      "Clicked\n",
      "Clicked\n",
      "Clicked\n"
     ]
    }
   ],
   "source": [
    "### All Pages Loop ###\n",
    "\n",
    "address_list = []\n",
    "pris = []\n",
    "sqm = []\n",
    "rum = []\n",
    "area = []\n",
    "temp_lst = []\n",
    "tags_lst = []\n",
    "\n",
    "\n",
    "\n",
    "for x in range(1,total_pages + 1):\n",
    "    \n",
    "    l = f\" {url}&page={x}'\"\n",
    "    options = Options()\n",
    "    options.add_argument(\"--start-maximized\")\n",
    "    options.add_argument(\"--no-sandbox\")\n",
    "    options.add_argument('disable-notifications')\n",
    "\n",
    "    driver = webdriver.Chrome(executable_path='C:\\Program Files (x86)\\chromedriver.exe')\n",
    "    actions = ActionChains(driver)\n",
    "\n",
    "    driver.get(l)\n",
    "    \n",
    "    time.sleep(5)  # Waiting for the page to load (not recommended)\n",
    "    try:\n",
    "        item = driver.execute_script('''return document.querySelector('div#usercentrics-root').shadowRoot.querySelector('button[data-testid=\"uc-accept-all-button\"]')''')\n",
    "        item.click()\n",
    "        print('Clicked')\n",
    "    except Exception as e:\n",
    "        print(e)\n",
    "        print('No click button')\n",
    "\n",
    "\n",
    "    # Page Scroll\n",
    "    driver.execute_script(\"window.scrollTo(0, document.body.scrollHeight);\")\n",
    "    \n",
    "    # Generate Soop\n",
    "    soup = BeautifulSoup(driver.page_source, \"lxml\")\n",
    "    \n",
    "    ###\n",
    "    \n",
    "    key = '#huvudinnehall > div.hcl-grid.hcl-grid--columns-12.hcl-grid--gap-2.SearchResultsLayout_layoutWrapper__nsPUV > div.hcl-grid__item.hcl-grid__item-span-12.hcl-grid__item-lg-span-9.SearchResultsLayout_gridItem__SYbQ_ > div:nth-child(7)'\n",
    "    \n",
    "    containers = soup.select(key)\n",
    "    \n",
    "    ### Select address name\n",
    "    \n",
    "    for i in containers:\n",
    "        \n",
    "        a = i.select(\"div.Header_truncate__ebq7a\")\n",
    "        \n",
    "        address_list.append([i.text.title() for i in a])\n",
    "        \n",
    "\n",
    "    ### Select pris, sqm, rum\n",
    "    \n",
    "    for i in containers:\n",
    "    \n",
    "        a = i.select(\".ForSaleAttributes_primaryAttributes__tqSRJ\")\n",
    "    \n",
    "        c = [i.text.replace('\\xa0', '') for i in a]\n",
    "    \n",
    "    for i in c:\n",
    "        \n",
    "        if i.endswith(\"kr\"):\n",
    "            pris.append(i)  \n",
    "        if i.endswith(\"m²\"):\n",
    "            sqm.append(i)\n",
    "        if i.endswith(\"rum\"):\n",
    "            rum.append(i)\n",
    "            \n",
    "            \n",
    "    ### Area\n",
    "    \n",
    "    for i in containers:\n",
    "        \n",
    "        a = i.select(\"div.Location_address___eOo4\")\n",
    "        \n",
    "        area.append([i.text.title() for i in a])\n",
    "        \n",
    "     ## Tags\n",
    "    \n",
    "    divs = containers[0].select(\"div > div.Content_content__lg290\")\n",
    "    \n",
    "    for i in divs:\n",
    "        for j in i.select(\"div.Content_content__lg290 > div:nth-of-type(3)\"):\n",
    "            tags_lst.append(j.text)   \n",
    "    # [j.text for i in divs for j in i.select(\"div.Content_content__lg290 > div:nth-of-type(3)\")]    \n",
    "        \n",
    "    ### Links\n",
    "    \n",
    "       \n",
    "    for i in containers:\n",
    "        a = i.select(\"a\")\n",
    "    \n",
    "    for b in a:\n",
    "        temp_lst.append(b[\"href\"])\n",
    "        \n",
    "        \n",
    "links = []\n",
    "\n",
    "for i in temp_lst:\n",
    "    if i.startswith(\"/bostad/\"):\n",
    "        links.append(\"https://hemnet.se\" + i)     \n",
    "        \n"
   ]
  },
  {
   "cell_type": "code",
   "execution_count": 217,
   "id": "a8eeec25",
   "metadata": {
    "scrolled": false
   },
   "outputs": [],
   "source": [
    "addresses = [item for row in address_list for item in row]\n",
    "areas = [item for row in area for item in row]"
   ]
  },
  {
   "cell_type": "code",
   "execution_count": 219,
   "id": "6ca8392b",
   "metadata": {},
   "outputs": [],
   "source": [
    "f_address = []\n",
    "\n",
    "for i in addresses:\n",
    "    f_address.append(i.replace(\" \",\"+\"))\n",
    "    \n",
    "\n",
    "f_area = []\n",
    "\n",
    "for i in areas:\n",
    "    f_area.append(i.replace(\" \",\"+\"))\n",
    "    \n",
    "gmaps_list = [\"https://www.google.com/maps/place/\" + a + \",\" + b + \",\" for a, b in zip(f_address, f_area)]"
   ]
  },
  {
   "cell_type": "code",
   "execution_count": 223,
   "id": "4c779891",
   "metadata": {},
   "outputs": [],
   "source": [
    "df = pd.DataFrame( {\"Address\": addresses, \"Area\": areas, \"Price\": pris, \"Size\": sqm, \"Rooms\": rum, \"Tags\": tags_lst, \"HemnetLink\":links, \"GMapsLink\": gmaps_list} )"
   ]
  },
  {
   "cell_type": "code",
   "execution_count": 224,
   "id": "b0884b63",
   "metadata": {},
   "outputs": [
    {
     "data": {
      "text/html": [
       "<div>\n",
       "<style scoped>\n",
       "    .dataframe tbody tr th:only-of-type {\n",
       "        vertical-align: middle;\n",
       "    }\n",
       "\n",
       "    .dataframe tbody tr th {\n",
       "        vertical-align: top;\n",
       "    }\n",
       "\n",
       "    .dataframe thead th {\n",
       "        text-align: right;\n",
       "    }\n",
       "</style>\n",
       "<table border=\"1\" class=\"dataframe\">\n",
       "  <thead>\n",
       "    <tr style=\"text-align: right;\">\n",
       "      <th></th>\n",
       "      <th>Address</th>\n",
       "      <th>Area</th>\n",
       "      <th>Price</th>\n",
       "      <th>Size</th>\n",
       "      <th>Rooms</th>\n",
       "      <th>Tags</th>\n",
       "      <th>HemnetLink</th>\n",
       "      <th>GMapsLink</th>\n",
       "    </tr>\n",
       "  </thead>\n",
       "  <tbody>\n",
       "    <tr>\n",
       "      <th>0</th>\n",
       "      <td>Eskadervägen 46</td>\n",
       "      <td>Näsby Park, Täby Kommun</td>\n",
       "      <td>2895000kr</td>\n",
       "      <td>70m²</td>\n",
       "      <td>3rum</td>\n",
       "      <td>PremiumBalkongHiss</td>\n",
       "      <td>https://hemnet.se/bostad/lagenhet-3rum-nasby-p...</td>\n",
       "      <td>https://www.google.com/maps/place/Eskadervägen...</td>\n",
       "    </tr>\n",
       "    <tr>\n",
       "      <th>1</th>\n",
       "      <td>Trefaldighetsvägen 14 E</td>\n",
       "      <td>Gribbylund, Täby Kommun</td>\n",
       "      <td>2650000kr</td>\n",
       "      <td>81,8m²</td>\n",
       "      <td>4rum</td>\n",
       "      <td>PremiumUteplats</td>\n",
       "      <td>https://hemnet.se/bostad/lagenhet-4rum-gribbyl...</td>\n",
       "      <td>https://www.google.com/maps/place/Trefaldighet...</td>\n",
       "    </tr>\n",
       "    <tr>\n",
       "      <th>2</th>\n",
       "      <td>Gribbylundsvägen 78A</td>\n",
       "      <td>Gribbylund, Täby Kommun</td>\n",
       "      <td>2495000kr</td>\n",
       "      <td>84m²</td>\n",
       "      <td>4rum</td>\n",
       "      <td>PremiumBalkongHiss</td>\n",
       "      <td>https://hemnet.se/bostad/lagenhet-4rum-gribbyl...</td>\n",
       "      <td>https://www.google.com/maps/place/Gribbylundsv...</td>\n",
       "    </tr>\n",
       "    <tr>\n",
       "      <th>3</th>\n",
       "      <td>Meteorvägen 26</td>\n",
       "      <td>Grindtorp, Täby Kommun</td>\n",
       "      <td>3295000kr</td>\n",
       "      <td>81m²</td>\n",
       "      <td>3rum</td>\n",
       "      <td>Balkong</td>\n",
       "      <td>https://hemnet.se/bostad/lagenhet-3rum-grindto...</td>\n",
       "      <td>https://www.google.com/maps/place/Meteorvägen+...</td>\n",
       "    </tr>\n",
       "    <tr>\n",
       "      <th>4</th>\n",
       "      <td>Regementsgatan 50</td>\n",
       "      <td>Ritorp, Solna Kommun</td>\n",
       "      <td>3395000kr</td>\n",
       "      <td>70,7m²</td>\n",
       "      <td>3rum</td>\n",
       "      <td>PremiumBalkong</td>\n",
       "      <td>https://hemnet.se/bostad/lagenhet-3rum-ritorp-...</td>\n",
       "      <td>https://www.google.com/maps/place/Regementsgat...</td>\n",
       "    </tr>\n",
       "    <tr>\n",
       "      <th>...</th>\n",
       "      <td>...</td>\n",
       "      <td>...</td>\n",
       "      <td>...</td>\n",
       "      <td>...</td>\n",
       "      <td>...</td>\n",
       "      <td>...</td>\n",
       "      <td>...</td>\n",
       "      <td>...</td>\n",
       "    </tr>\n",
       "    <tr>\n",
       "      <th>135</th>\n",
       "      <td>Spegelbacken 70</td>\n",
       "      <td>Gribbylund, Täby Kommun</td>\n",
       "      <td>2695000kr</td>\n",
       "      <td>120,5m²</td>\n",
       "      <td>5rum</td>\n",
       "      <td>Uteplats</td>\n",
       "      <td>https://hemnet.se/bostad/radhus-5rum-gribbylun...</td>\n",
       "      <td>https://www.google.com/maps/place/Spegelbacken...</td>\n",
       "    </tr>\n",
       "    <tr>\n",
       "      <th>136</th>\n",
       "      <td>Ugglevägen 2</td>\n",
       "      <td>Ullna Strand, Täby Kommun</td>\n",
       "      <td>3495000kr</td>\n",
       "      <td>85m²</td>\n",
       "      <td>4rum</td>\n",
       "      <td>BalkongHiss</td>\n",
       "      <td>https://hemnet.se/bostad/lagenhet-4rum-ullna-s...</td>\n",
       "      <td>https://www.google.com/maps/place/Ugglevägen+2...</td>\n",
       "    </tr>\n",
       "    <tr>\n",
       "      <th>137</th>\n",
       "      <td>Hägernäsvägen 1A</td>\n",
       "      <td>Hägernäs, Täby Kommun</td>\n",
       "      <td>2499000kr</td>\n",
       "      <td>89m²</td>\n",
       "      <td>4rum</td>\n",
       "      <td>Balkong</td>\n",
       "      <td>https://hemnet.se/bostad/lagenhet-4rum-hagerna...</td>\n",
       "      <td>https://www.google.com/maps/place/Hägernäsväge...</td>\n",
       "    </tr>\n",
       "    <tr>\n",
       "      <th>138</th>\n",
       "      <td>Hagalundsgatan 22, 12 Tr</td>\n",
       "      <td>Hagalund, Solna Kommun</td>\n",
       "      <td>3400000kr</td>\n",
       "      <td>67m²</td>\n",
       "      <td>3rum</td>\n",
       "      <td>BalkongHiss</td>\n",
       "      <td>https://hemnet.se/bostad/lagenhet-3rum-hagalun...</td>\n",
       "      <td>https://www.google.com/maps/place/Hagalundsgat...</td>\n",
       "    </tr>\n",
       "    <tr>\n",
       "      <th>139</th>\n",
       "      <td>Sturevägen 4B, 1Tr</td>\n",
       "      <td>Saltsjöbaden - Neglinge, Nacka Kommun</td>\n",
       "      <td>3295000kr</td>\n",
       "      <td>74,5m²</td>\n",
       "      <td>3rum</td>\n",
       "      <td></td>\n",
       "      <td>https://hemnet.se/bostad/lagenhet-3rum-saltsjo...</td>\n",
       "      <td>https://www.google.com/maps/place/Sturevägen+4...</td>\n",
       "    </tr>\n",
       "  </tbody>\n",
       "</table>\n",
       "<p>140 rows × 8 columns</p>\n",
       "</div>"
      ],
      "text/plain": [
       "                      Address                                   Area  \\\n",
       "0             Eskadervägen 46                Näsby Park, Täby Kommun   \n",
       "1     Trefaldighetsvägen 14 E                Gribbylund, Täby Kommun   \n",
       "2        Gribbylundsvägen 78A                Gribbylund, Täby Kommun   \n",
       "3              Meteorvägen 26                 Grindtorp, Täby Kommun   \n",
       "4           Regementsgatan 50                   Ritorp, Solna Kommun   \n",
       "..                        ...                                    ...   \n",
       "135           Spegelbacken 70                Gribbylund, Täby Kommun   \n",
       "136              Ugglevägen 2              Ullna Strand, Täby Kommun   \n",
       "137          Hägernäsvägen 1A                  Hägernäs, Täby Kommun   \n",
       "138  Hagalundsgatan 22, 12 Tr                 Hagalund, Solna Kommun   \n",
       "139        Sturevägen 4B, 1Tr  Saltsjöbaden - Neglinge, Nacka Kommun   \n",
       "\n",
       "         Price     Size Rooms                Tags  \\\n",
       "0    2895000kr     70m²  3rum  PremiumBalkongHiss   \n",
       "1    2650000kr   81,8m²  4rum     PremiumUteplats   \n",
       "2    2495000kr     84m²  4rum  PremiumBalkongHiss   \n",
       "3    3295000kr     81m²  3rum             Balkong   \n",
       "4    3395000kr   70,7m²  3rum      PremiumBalkong   \n",
       "..         ...      ...   ...                 ...   \n",
       "135  2695000kr  120,5m²  5rum            Uteplats   \n",
       "136  3495000kr     85m²  4rum         BalkongHiss   \n",
       "137  2499000kr     89m²  4rum             Balkong   \n",
       "138  3400000kr     67m²  3rum         BalkongHiss   \n",
       "139  3295000kr   74,5m²  3rum                       \n",
       "\n",
       "                                            HemnetLink  \\\n",
       "0    https://hemnet.se/bostad/lagenhet-3rum-nasby-p...   \n",
       "1    https://hemnet.se/bostad/lagenhet-4rum-gribbyl...   \n",
       "2    https://hemnet.se/bostad/lagenhet-4rum-gribbyl...   \n",
       "3    https://hemnet.se/bostad/lagenhet-3rum-grindto...   \n",
       "4    https://hemnet.se/bostad/lagenhet-3rum-ritorp-...   \n",
       "..                                                 ...   \n",
       "135  https://hemnet.se/bostad/radhus-5rum-gribbylun...   \n",
       "136  https://hemnet.se/bostad/lagenhet-4rum-ullna-s...   \n",
       "137  https://hemnet.se/bostad/lagenhet-4rum-hagerna...   \n",
       "138  https://hemnet.se/bostad/lagenhet-3rum-hagalun...   \n",
       "139  https://hemnet.se/bostad/lagenhet-3rum-saltsjo...   \n",
       "\n",
       "                                             GMapsLink  \n",
       "0    https://www.google.com/maps/place/Eskadervägen...  \n",
       "1    https://www.google.com/maps/place/Trefaldighet...  \n",
       "2    https://www.google.com/maps/place/Gribbylundsv...  \n",
       "3    https://www.google.com/maps/place/Meteorvägen+...  \n",
       "4    https://www.google.com/maps/place/Regementsgat...  \n",
       "..                                                 ...  \n",
       "135  https://www.google.com/maps/place/Spegelbacken...  \n",
       "136  https://www.google.com/maps/place/Ugglevägen+2...  \n",
       "137  https://www.google.com/maps/place/Hägernäsväge...  \n",
       "138  https://www.google.com/maps/place/Hagalundsgat...  \n",
       "139  https://www.google.com/maps/place/Sturevägen+4...  \n",
       "\n",
       "[140 rows x 8 columns]"
      ]
     },
     "execution_count": 224,
     "metadata": {},
     "output_type": "execute_result"
    }
   ],
   "source": [
    "df"
   ]
  },
  {
   "cell_type": "code",
   "execution_count": 225,
   "id": "9bd4110d",
   "metadata": {},
   "outputs": [],
   "source": [
    "df[['Location', 'Kommun']] = df['Area'].apply(lambda x: pd.Series([x.split(', ')[0], x.split(', ')[1]]) if ',' in x else pd.Series([x, None]))"
   ]
  },
  {
   "cell_type": "code",
   "execution_count": 226,
   "id": "5d8587a5",
   "metadata": {},
   "outputs": [],
   "source": [
    "df[\"Price\"] = df[\"Price\"].str.replace(\"kr\", \"\").astype(int)"
   ]
  },
  {
   "cell_type": "code",
   "execution_count": 227,
   "id": "84153d2d",
   "metadata": {},
   "outputs": [],
   "source": [
    "df[\"Size\"] = df[\"Size\"].str.replace(\"m²\", \"\").str.replace(\",\",\".\").astype(float)"
   ]
  },
  {
   "cell_type": "code",
   "execution_count": 228,
   "id": "f28e3d02",
   "metadata": {},
   "outputs": [],
   "source": [
    "df[\"Rooms\"] = df[\"Rooms\"].str.replace(\"rum\", \"\").str.replace(\",\",\".\").astype(float)"
   ]
  },
  {
   "cell_type": "code",
   "execution_count": 229,
   "id": "71adeb68",
   "metadata": {},
   "outputs": [],
   "source": [
    "df[\"Kommun\"] = df[\"Kommun\"].str.replace(\"Kommun\", \"\")"
   ]
  },
  {
   "cell_type": "code",
   "execution_count": 230,
   "id": "caa3be7c",
   "metadata": {},
   "outputs": [
    {
     "data": {
      "text/html": [
       "<div>\n",
       "<style scoped>\n",
       "    .dataframe tbody tr th:only-of-type {\n",
       "        vertical-align: middle;\n",
       "    }\n",
       "\n",
       "    .dataframe tbody tr th {\n",
       "        vertical-align: top;\n",
       "    }\n",
       "\n",
       "    .dataframe thead th {\n",
       "        text-align: right;\n",
       "    }\n",
       "</style>\n",
       "<table border=\"1\" class=\"dataframe\">\n",
       "  <thead>\n",
       "    <tr style=\"text-align: right;\">\n",
       "      <th></th>\n",
       "      <th>Address</th>\n",
       "      <th>Area</th>\n",
       "      <th>Price</th>\n",
       "      <th>Size</th>\n",
       "      <th>Rooms</th>\n",
       "      <th>Tags</th>\n",
       "      <th>HemnetLink</th>\n",
       "      <th>GMapsLink</th>\n",
       "      <th>Location</th>\n",
       "      <th>Kommun</th>\n",
       "    </tr>\n",
       "  </thead>\n",
       "  <tbody>\n",
       "    <tr>\n",
       "      <th>0</th>\n",
       "      <td>Eskadervägen 46</td>\n",
       "      <td>Näsby Park, Täby Kommun</td>\n",
       "      <td>2895000</td>\n",
       "      <td>70.0</td>\n",
       "      <td>3.0</td>\n",
       "      <td>PremiumBalkongHiss</td>\n",
       "      <td>https://hemnet.se/bostad/lagenhet-3rum-nasby-p...</td>\n",
       "      <td>https://www.google.com/maps/place/Eskadervägen...</td>\n",
       "      <td>Näsby Park</td>\n",
       "      <td>Täby</td>\n",
       "    </tr>\n",
       "    <tr>\n",
       "      <th>1</th>\n",
       "      <td>Trefaldighetsvägen 14 E</td>\n",
       "      <td>Gribbylund, Täby Kommun</td>\n",
       "      <td>2650000</td>\n",
       "      <td>81.8</td>\n",
       "      <td>4.0</td>\n",
       "      <td>PremiumUteplats</td>\n",
       "      <td>https://hemnet.se/bostad/lagenhet-4rum-gribbyl...</td>\n",
       "      <td>https://www.google.com/maps/place/Trefaldighet...</td>\n",
       "      <td>Gribbylund</td>\n",
       "      <td>Täby</td>\n",
       "    </tr>\n",
       "    <tr>\n",
       "      <th>2</th>\n",
       "      <td>Gribbylundsvägen 78A</td>\n",
       "      <td>Gribbylund, Täby Kommun</td>\n",
       "      <td>2495000</td>\n",
       "      <td>84.0</td>\n",
       "      <td>4.0</td>\n",
       "      <td>PremiumBalkongHiss</td>\n",
       "      <td>https://hemnet.se/bostad/lagenhet-4rum-gribbyl...</td>\n",
       "      <td>https://www.google.com/maps/place/Gribbylundsv...</td>\n",
       "      <td>Gribbylund</td>\n",
       "      <td>Täby</td>\n",
       "    </tr>\n",
       "  </tbody>\n",
       "</table>\n",
       "</div>"
      ],
      "text/plain": [
       "                   Address                     Area    Price  Size  Rooms  \\\n",
       "0          Eskadervägen 46  Näsby Park, Täby Kommun  2895000  70.0    3.0   \n",
       "1  Trefaldighetsvägen 14 E  Gribbylund, Täby Kommun  2650000  81.8    4.0   \n",
       "2     Gribbylundsvägen 78A  Gribbylund, Täby Kommun  2495000  84.0    4.0   \n",
       "\n",
       "                 Tags                                         HemnetLink  \\\n",
       "0  PremiumBalkongHiss  https://hemnet.se/bostad/lagenhet-3rum-nasby-p...   \n",
       "1     PremiumUteplats  https://hemnet.se/bostad/lagenhet-4rum-gribbyl...   \n",
       "2  PremiumBalkongHiss  https://hemnet.se/bostad/lagenhet-4rum-gribbyl...   \n",
       "\n",
       "                                           GMapsLink    Location Kommun  \n",
       "0  https://www.google.com/maps/place/Eskadervägen...  Näsby Park  Täby   \n",
       "1  https://www.google.com/maps/place/Trefaldighet...  Gribbylund  Täby   \n",
       "2  https://www.google.com/maps/place/Gribbylundsv...  Gribbylund  Täby   "
      ]
     },
     "execution_count": 230,
     "metadata": {},
     "output_type": "execute_result"
    }
   ],
   "source": [
    "df.head(3)"
   ]
  },
  {
   "cell_type": "code",
   "execution_count": 113,
   "id": "9af4591f",
   "metadata": {},
   "outputs": [
    {
     "name": "stdout",
     "output_type": "stream",
     "text": [
      "<class 'pandas.core.frame.DataFrame'>\n",
      "RangeIndex: 144 entries, 0 to 143\n",
      "Data columns (total 9 columns):\n",
      " #   Column      Non-Null Count  Dtype  \n",
      "---  ------      --------------  -----  \n",
      " 0   Address     144 non-null    object \n",
      " 1   Area        144 non-null    object \n",
      " 2   Price       144 non-null    int32  \n",
      " 3   Size        144 non-null    float64\n",
      " 4   Rooms       144 non-null    float64\n",
      " 5   HemnetLink  144 non-null    object \n",
      " 6   GMapsLink   144 non-null    object \n",
      " 7   Location    144 non-null    object \n",
      " 8   Kommun      144 non-null    object \n",
      "dtypes: float64(2), int32(1), object(6)\n",
      "memory usage: 9.7+ KB\n"
     ]
    }
   ],
   "source": [
    "df.info()"
   ]
  },
  {
   "cell_type": "code",
   "execution_count": 234,
   "id": "43b0cb2c",
   "metadata": {},
   "outputs": [
    {
     "data": {
      "text/plain": [
       "109"
      ]
     },
     "execution_count": 234,
     "metadata": {},
     "output_type": "execute_result"
    }
   ],
   "source": [
    "df.loc[df[\"Rooms\"] == 13].index[0]"
   ]
  },
  {
   "cell_type": "code",
   "execution_count": 120,
   "id": "473d898b",
   "metadata": {},
   "outputs": [],
   "source": [
    "df.drop(df.loc[df[\"Rooms\"] == 13].index[0], axis=0, inplace= True)"
   ]
  },
  {
   "cell_type": "code",
   "execution_count": 122,
   "id": "ed14bca7",
   "metadata": {},
   "outputs": [],
   "source": [
    "df.reset_index(drop=True, inplace= True)"
   ]
  },
  {
   "cell_type": "code",
   "execution_count": null,
   "id": "0c755a41",
   "metadata": {},
   "outputs": [],
   "source": []
  },
  {
   "cell_type": "code",
   "execution_count": null,
   "id": "1643aa84",
   "metadata": {},
   "outputs": [],
   "source": []
  },
  {
   "cell_type": "code",
   "execution_count": 184,
   "id": "f193be52",
   "metadata": {},
   "outputs": [
    {
     "data": {
      "text/html": [
       "<div>\n",
       "<style scoped>\n",
       "    .dataframe tbody tr th:only-of-type {\n",
       "        vertical-align: middle;\n",
       "    }\n",
       "\n",
       "    .dataframe tbody tr th {\n",
       "        vertical-align: top;\n",
       "    }\n",
       "\n",
       "    .dataframe thead th {\n",
       "        text-align: right;\n",
       "    }\n",
       "</style>\n",
       "<table border=\"1\" class=\"dataframe\">\n",
       "  <thead>\n",
       "    <tr style=\"text-align: right;\">\n",
       "      <th></th>\n",
       "      <th>0</th>\n",
       "    </tr>\n",
       "    <tr>\n",
       "      <th>Rooms</th>\n",
       "      <th></th>\n",
       "    </tr>\n",
       "  </thead>\n",
       "  <tbody>\n",
       "    <tr>\n",
       "      <th>3.0</th>\n",
       "      <td>95</td>\n",
       "    </tr>\n",
       "    <tr>\n",
       "      <th>4.0</th>\n",
       "      <td>32</td>\n",
       "    </tr>\n",
       "    <tr>\n",
       "      <th>2.5</th>\n",
       "      <td>9</td>\n",
       "    </tr>\n",
       "    <tr>\n",
       "      <th>5.0</th>\n",
       "      <td>4</td>\n",
       "    </tr>\n",
       "    <tr>\n",
       "      <th>3.5</th>\n",
       "      <td>3</td>\n",
       "    </tr>\n",
       "  </tbody>\n",
       "</table>\n",
       "</div>"
      ],
      "text/plain": [
       "        0\n",
       "Rooms    \n",
       "3.0    95\n",
       "4.0    32\n",
       "2.5     9\n",
       "5.0     4\n",
       "3.5     3"
      ]
     },
     "execution_count": 184,
     "metadata": {},
     "output_type": "execute_result"
    }
   ],
   "source": [
    "pd.DataFrame(df[[\"Rooms\"]].value_counts())"
   ]
  },
  {
   "cell_type": "markdown",
   "id": "9fbfedd2",
   "metadata": {},
   "source": [
    "# DATA VIZ"
   ]
  },
  {
   "cell_type": "code",
   "execution_count": 160,
   "id": "bf9ba6e0",
   "metadata": {},
   "outputs": [],
   "source": [
    "palette = [\n",
    "    '#aec6cf',  # Pastel Blue\n",
    "    '#ffccd3',  # Pastel Red\n",
    "    '#c9dfaf',  # Pastel Green\n",
    "    '#d2b48c',  # Pastel Brown\n",
    "    '#ffcc99',  # Pastel Orange\n",
    "    '#ffb6c1'   # Pastel Pink\n",
    "]\n"
   ]
  },
  {
   "cell_type": "code",
   "execution_count": null,
   "id": "54072758",
   "metadata": {},
   "outputs": [],
   "source": []
  },
  {
   "cell_type": "code",
   "execution_count": 179,
   "id": "2a1f5af4",
   "metadata": {},
   "outputs": [
    {
     "data": {
      "image/png": "[encoded data removed]",
      "text/plain": [
       "<Figure size 640x480 with 1 Axes>"
      ]
     },
     "metadata": {},
     "output_type": "display_data"
    }
   ],
   "source": [
    "df[\"Rooms\"].value_counts(normalize=True).plot(kind=\"bar\", color = palette)\n",
    "\n",
    "plt.title(\"Distribution of Rooms\", fontsize= 12)\n",
    "plt.ylabel(\"%\")\n",
    "plt.show()"
   ]
  },
  {
   "cell_type": "code",
   "execution_count": 180,
   "id": "a5c15e6d",
   "metadata": {},
   "outputs": [
    {
     "data": {
      "image/png": "[encoded data removed]",
      "text/plain": [
       "<Figure size 640x480 with 1 Axes>"
      ]
     },
     "metadata": {},
     "output_type": "display_data"
    }
   ],
   "source": [
    "sns.histplot(data= df, x= \"Price\", color = palette[0])\n",
    "\n",
    "plt.title(\"Histogram of Price\", fontsize= 12)\n",
    "plt.show()"
   ]
  },
  {
   "cell_type": "code",
   "execution_count": 130,
   "id": "4bd1ff32",
   "metadata": {},
   "outputs": [
    {
     "data": {
      "text/plain": [
       "<seaborn.axisgrid.FacetGrid at 0x1eaf287fa90>"
      ]
     },
     "execution_count": 130,
     "metadata": {},
     "output_type": "execute_result"
    },
    {
     "data": {
      "image/png": "[encoded data removed]",
      "text/plain": [
       "<Figure size 2511.11x500 with 5 Axes>"
      ]
     },
     "metadata": {},
     "output_type": "display_data"
    }
   ],
   "source": [
    "sns.catplot(data= df, x= \"Kommun\", y= \"Price\", kind= \"bar\", errorbar= None, estimator= \"mean\", col= \"Rooms\")"
   ]
  },
  {
   "cell_type": "code",
   "execution_count": 171,
   "id": "56db9460",
   "metadata": {},
   "outputs": [
    {
     "data": {
      "image/png": "[encoded data removed]",
      "text/plain": [
       "<Figure size 640x480 with 1 Axes>"
      ]
     },
     "metadata": {},
     "output_type": "display_data"
    }
   ],
   "source": [
    "sns.barplot(data= df.loc[df[\"Rooms\"] == 3.0], x=\"Kommun\", y=\"Price\", errorbar=None, color=palette[0])\n",
    "\n",
    "plt.title(\"Price Difference of 3-Rooms\", fontsize= 12)\n",
    "plt.show()"
   ]
  },
  {
   "cell_type": "code",
   "execution_count": 174,
   "id": "28cb8774",
   "metadata": {},
   "outputs": [
    {
     "data": {
      "image/png": "[encoded data removed]",
      "text/plain": [
       "<Figure size 640x480 with 1 Axes>"
      ]
     },
     "metadata": {},
     "output_type": "display_data"
    }
   ],
   "source": [
    "sns.barplot(data= df.loc[df[\"Rooms\"] == 4.0], x=\"Kommun\", y=\"Price\", errorbar=None, color=palette[3])\n",
    "\n",
    "plt.title(\"Price Difference of 4-Rooms\", fontsize= 12)\n",
    "plt.show()"
   ]
  },
  {
   "cell_type": "code",
   "execution_count": 128,
   "id": "5400684d",
   "metadata": {},
   "outputs": [
    {
     "data": {
      "text/plain": [
       "<Axes: xlabel='Price', ylabel='Size'>"
      ]
     },
     "execution_count": 128,
     "metadata": {},
     "output_type": "execute_result"
    },
    {
     "data": {
      "image/png": "[encoded data removed]",
      "text/plain": [
       "<Figure size 640x480 with 1 Axes>"
      ]
     },
     "metadata": {},
     "output_type": "display_data"
    }
   ],
   "source": [
    "sns.scatterplot(data=df, x= \"Price\", y=\"Size\", hue= \"Rooms\")"
   ]
  },
  {
   "cell_type": "code",
   "execution_count": 175,
   "id": "6a3f63ca",
   "metadata": {},
   "outputs": [
    {
     "data": {
      "text/plain": [
       "<Axes: >"
      ]
     },
     "execution_count": 175,
     "metadata": {},
     "output_type": "execute_result"
    },
    {
     "data": {
      "image/png": "[encoded data removed]",
      "text/plain": [
       "<Figure size 640x480 with 1 Axes>"
      ]
     },
     "metadata": {},
     "output_type": "display_data"
    }
   ],
   "source": [
    "df[\"Kommun\"].value_counts().plot(kind=\"bar\", color=palette[0])"
   ]
  },
  {
   "cell_type": "code",
   "execution_count": null,
   "id": "a43a2be9",
   "metadata": {},
   "outputs": [],
   "source": []
  }
 ],
 "metadata": {
  "kernelspec": {
   "display_name": "Python 3 (ipykernel)",
   "language": "python",
   "name": "python3"
  },
  "language_info": {
   "codemirror_mode": {
    "name": "ipython",
    "version": 3
   },
   "file_extension": ".py",
   "mimetype": "text/x-python",
   "name": "python",
   "nbconvert_exporter": "python",
   "pygments_lexer": "ipython3",
   "version": "3.11.4"
  }
 },
 "nbformat": 4,
 "nbformat_minor": 5
}
